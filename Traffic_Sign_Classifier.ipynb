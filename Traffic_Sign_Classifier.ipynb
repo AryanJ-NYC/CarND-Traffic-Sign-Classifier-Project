{
 "cells": [
  {
   "cell_type": "markdown",
   "metadata": {},
   "source": [
    "# Self-Driving Car Engineer Nanodegree\n",
    "\n",
    "## Deep Learning\n",
    "\n",
    "## Project: Build a Traffic Sign Recognition Classifier\n",
    "\n",
    "In this notebook, a template is provided for you to implement your functionality in stages, which is required to successfully complete this project. If additional code is required that cannot be included in the notebook, be sure that the Python code is successfully imported and included in your submission if necessary. "
   ]
  },
  {
   "cell_type": "markdown",
   "metadata": {},
   "source": [
    "---\n",
    "## Step 0: Load The Data"
   ]
  },
  {
   "cell_type": "code",
   "execution_count": 1,
   "metadata": {
    "collapsed": false
   },
   "outputs": [],
   "source": [
    "# Load pickled data\n",
    "import pickle\n",
    "\n",
    "# Fill this in based on where you saved the training and testing data\n",
    "\n",
    "traffic_signs_data_dir = 'traffic-signs-data'\n",
    "training_file = traffic_signs_data_dir + '/train.p'\n",
    "validation_file = traffic_signs_data_dir + '/valid.p'\n",
    "testing_file = traffic_signs_data_dir + '/test.p'\n",
    "\n",
    "with open(training_file, mode='rb') as f:\n",
    "    train = pickle.load(f)\n",
    "with open(validation_file, mode='rb') as f:\n",
    "    valid = pickle.load(f)\n",
    "with open(testing_file, mode='rb') as f:\n",
    "    test = pickle.load(f)\n",
    "    \n",
    "X_train, y_train = train['features'], train['labels']\n",
    "X_valid, y_valid = valid['features'], valid['labels']\n",
    "X_test, y_test = test['features'], test['labels']"
   ]
  },
  {
   "cell_type": "markdown",
   "metadata": {},
   "source": [
    "---\n",
    "\n",
    "## Step 1: Dataset Summary & Exploration\n",
    "\n",
    "The pickled data is a dictionary with 4 key/value pairs:\n",
    "\n",
    "- `'features'` is a 4D array containing raw pixel data of the traffic sign images, (num examples, width, height, channels).\n",
    "- `'labels'` is a 1D array containing the label/class id of the traffic sign. The file `signnames.csv` contains id -> name mappings for each id.\n",
    "- `'sizes'` is a list containing tuples, (width, height) representing the original width and height the image.\n",
    "- `'coords'` is a list containing tuples, (x1, y1, x2, y2) representing coordinates of a bounding box around the sign in the image. **THESE COORDINATES ASSUME THE ORIGINAL IMAGE. THE PICKLED DATA CONTAINS RESIZED VERSIONS (32 by 32) OF THESE IMAGES**\n",
    "\n",
    "Complete the basic data summary below. Use python, numpy and/or pandas methods to calculate the data summary rather than hard coding the results. For example, the [pandas shape method](http://pandas.pydata.org/pandas-docs/stable/generated/pandas.DataFrame.shape.html) might be useful for calculating some of the summary results. "
   ]
  },
  {
   "cell_type": "markdown",
   "metadata": {},
   "source": [
    "### Provide a Basic Summary of the Data Set Using Python, Numpy and/or Pandas"
   ]
  },
  {
   "cell_type": "code",
   "execution_count": 2,
   "metadata": {
    "collapsed": false
   },
   "outputs": [
    {
     "name": "stdout",
     "output_type": "stream",
     "text": [
      "Number of training examples = 34799\n",
      "Number of validation examples = 4410\n",
      "Number of testing examples = 12630\n",
      "Image data shape = (32, 32)\n",
      "Number of classes = 43\n"
     ]
    }
   ],
   "source": [
    "# Number of training examples\n",
    "n_train = len(X_train)\n",
    "\n",
    "# Number of validation examples\n",
    "n_valid = len(X_valid)\n",
    "\n",
    "# Number of testing examples.\n",
    "n_test = len(X_test)\n",
    "\n",
    "# What's the shape of an traffic sign image?\n",
    "image_shape = len(X_train[0]), len(X_train[0][0])\n",
    "\n",
    "# TODO: How many unique classes/labels there are in the dataset.\n",
    "n_classes = max(y_train) + 1\n",
    "\n",
    "print(\"Number of training examples =\", n_train)\n",
    "print(\"Number of validation examples =\", n_valid)\n",
    "print(\"Number of testing examples =\", n_test)\n",
    "print(\"Image data shape =\", image_shape)\n",
    "print(\"Number of classes =\", n_classes)"
   ]
  },
  {
   "cell_type": "markdown",
   "metadata": {},
   "source": [
    "### Include an exploratory visualization of the dataset"
   ]
  },
  {
   "cell_type": "markdown",
   "metadata": {},
   "source": [
    "Visualize the German Traffic Signs Dataset using the pickled file(s). This is open ended, suggestions include: plotting traffic sign images, plotting the count of each sign, etc.\n",
    "\n",
    "The [Matplotlib](http://matplotlib.org/) [examples](http://matplotlib.org/examples/index.html) and [gallery](http://matplotlib.org/gallery.html) pages are a great resource for doing visualizations in Python.\n",
    "\n",
    "**NOTE:** It's recommended you start with something simple first. If you wish to do more, come back to it after you've completed the rest of the sections."
   ]
  },
  {
   "cell_type": "markdown",
   "metadata": {},
   "source": [
    "#### Training Data Visualization"
   ]
  },
  {
   "cell_type": "code",
   "execution_count": 3,
   "metadata": {
    "collapsed": false,
    "scrolled": false
   },
   "outputs": [
    {
     "data": {
      "image/png": "[encoded data removed]",
      "text/plain": [
       "<matplotlib.figure.Figure at 0x129c81320>"
      ]
     },
     "metadata": {},
     "output_type": "display_data"
    },
    {
     "name": "stdout",
     "output_type": "stream",
     "text": [
      "ClassId                                           SignName\n",
      "      0                               Speed limit (20km/h)\n",
      "      1                               Speed limit (30km/h)\n",
      "      2                               Speed limit (50km/h)\n",
      "      3                               Speed limit (60km/h)\n",
      "      4                               Speed limit (70km/h)\n",
      "      5                               Speed limit (80km/h)\n",
      "      6                        End of speed limit (80km/h)\n",
      "      7                              Speed limit (100km/h)\n",
      "      8                              Speed limit (120km/h)\n",
      "      9                                         No passing\n",
      "     10       No passing for vehicles over 3.5 metric tons\n",
      "     11              Right-of-way at the next intersection\n",
      "     12                                      Priority road\n",
      "     13                                              Yield\n",
      "     14                                               Stop\n",
      "     15                                        No vehicles\n",
      "     16           Vehicles over 3.5 metric tons prohibited\n",
      "     17                                           No entry\n",
      "     18                                    General caution\n",
      "     19                        Dangerous curve to the left\n",
      "     20                       Dangerous curve to the right\n",
      "     21                                       Double curve\n",
      "     22                                         Bumpy road\n",
      "     23                                      Slippery road\n",
      "     24                          Road narrows on the right\n",
      "     25                                          Road work\n",
      "     26                                    Traffic signals\n",
      "     27                                        Pedestrians\n",
      "     28                                  Children crossing\n",
      "     29                                  Bicycles crossing\n",
      "     30                                 Beware of ice/snow\n",
      "     31                              Wild animals crossing\n",
      "     32                End of all speed and passing limits\n",
      "     33                                   Turn right ahead\n",
      "     34                                    Turn left ahead\n",
      "     35                                         Ahead only\n",
      "     36                               Go straight or right\n",
      "     37                                Go straight or left\n",
      "     38                                         Keep right\n",
      "     39                                          Keep left\n",
      "     40                               Roundabout mandatory\n",
      "     41                                  End of no passing\n",
      "     42  End of no passing by vehicles over 3.5 metric ...\n"
     ]
    }
   ],
   "source": [
    "import matplotlib\n",
    "import matplotlib.pyplot as plt\n",
    "import pandas as pd\n",
    "\n",
    "label_names = pd.read_csv('signnames.csv')\n",
    "\n",
    "matplotlib.style.use('ggplot')\n",
    "\n",
    "fig_size = (12, 9)\n",
    "plt.rcParams[\"figure.figsize\"] = fig_size\n",
    "\n",
    "training_labels = pd.DataFrame({'label': y_train})\n",
    "label_counts = training_labels['label'].value_counts().sort_index()\n",
    "plot = label_counts.plot(kind='bar', rot=0)\n",
    "plot.set_title('Training Set Signs by Frequency')\n",
    "plot.set_ylabel('Frequency')\n",
    "plot.set_xlabel('Sign Index')\n",
    "\n",
    "# print labels\n",
    "plt.show()\n",
    "print(label_names.to_string(index=False))\n",
    "\n",
    "%matplotlib inline"
   ]
  },
  {
   "cell_type": "markdown",
   "metadata": {},
   "source": [
    "#### Image visualization"
   ]
  },
  {
   "cell_type": "code",
   "execution_count": 4,
   "metadata": {
    "collapsed": false,
    "scrolled": true
   },
   "outputs": [
    {
     "data": {
      "image/png": "[encoded data removed]",
      "text/plain": [
       "<matplotlib.figure.Figure at 0x128761d68>"
      ]
     },
     "metadata": {},
     "output_type": "display_data"
    }
   ],
   "source": [
    "# Display random images from training set\n",
    "import matplotlib.pyplot as plt\n",
    "import random\n",
    "\n",
    "NUM_IMAGES_SHOWN = 20 # must be even to work\n",
    "fig, axarr = plt.subplots(2, NUM_IMAGES_SHOWN//2) # images shown on two rows\n",
    "\n",
    "for img_num in range(NUM_IMAGES_SHOWN):\n",
    "    random_image_num = random.randrange(n_train)\n",
    "    row_num = img_num // (NUM_IMAGES_SHOWN//2)\n",
    "    col_num = img_num % (NUM_IMAGES_SHOWN//2)\n",
    "    axarr[row_num, col_num].imshow(X_train[random_image_num])\n",
    "    axarr[row_num, col_num].set_title(y_train[random_image_num])\n",
    "    axarr[row_num, col_num].axis('off')\n",
    "\n",
    "plt.show()\n",
    "# Visualizations will be shown in the notebook.\n",
    "%matplotlib inline"
   ]
  },
  {
   "cell_type": "markdown",
   "metadata": {},
   "source": [
    "----\n",
    "\n",
    "## Step 2: Design and Test a Model Architecture\n",
    "\n",
    "Design and implement a deep learning model that learns to recognize traffic signs. Train and test your model on the [German Traffic Sign Dataset](http://benchmark.ini.rub.de/?section=gtsrb&subsection=dataset).\n",
    "\n",
    "The LeNet-5 implementation shown in the [classroom](https://classroom.udacity.com/nanodegrees/nd013/parts/fbf77062-5703-404e-b60c-95b78b2f3f9e/modules/6df7ae49-c61c-4bb2-a23e-6527e69209ec/lessons/601ae704-1035-4287-8b11-e2c2716217ad/concepts/d4aca031-508f-4e0b-b493-e7b706120f81) at the end of the CNN lesson is a solid starting point. You'll have to change the number of classes and possibly the preprocessing, but aside from that it's plug and play! \n",
    "\n",
    "With the LeNet-5 solution from the lecture, you should expect a validation set accuracy of about 0.89. To meet specifications, the validation set accuracy will need to be at least 0.93. It is possible to get an even higher accuracy, but 0.93 is the minimum for a successful project submission. \n",
    "\n",
    "There are various aspects to consider when thinking about this problem:\n",
    "\n",
    "- Neural network architecture (is the network over or underfitting?)\n",
    "- Play around preprocessing techniques (normalization, rgb to grayscale, etc)\n",
    "- Number of examples per label (some have more than others).\n",
    "- Generate fake data.\n",
    "\n",
    "Here is an example of a [published baseline model on this problem](http://yann.lecun.com/exdb/publis/pdf/sermanet-ijcnn-11.pdf). It's not required to be familiar with the approach used in the paper but, it's good practice to try to read papers like these."
   ]
  },
  {
   "cell_type": "markdown",
   "metadata": {},
   "source": [
    "### Pre-process the Data Set (normalization, grayscale, etc.)"
   ]
  },
  {
   "cell_type": "markdown",
   "metadata": {},
   "source": [
    "Use the code cell (or multiple code cells, if necessary) to implement the first step of your project."
   ]
  },
  {
   "cell_type": "markdown",
   "metadata": {},
   "source": [
    "#### Pre-processors"
   ]
  },
  {
   "cell_type": "code",
   "execution_count": 5,
   "metadata": {
    "collapsed": false
   },
   "outputs": [],
   "source": [
    "import cv2\n",
    "\n",
    "def grayscale(img):\n",
    "    return cv2.cvtColor(img, cv2.COLOR_RGB2GRAY)\n",
    "\n",
    "def normalize(img, norm_type=cv2.NORM_MINMAX):\n",
    "    normalized_image = img.copy()\n",
    "    cv2.normalize(img, normalized_image, norm_type=norm_type, dtype=cv2.CV_32F)\n",
    "    return normalized_image\n",
    "\n",
    "def preprocess(img_matrix):\n",
    "    return_matrix = []\n",
    "    for image in img_matrix:\n",
    "        gray_image = grayscale(image)\n",
    "        normal_image = normalize(gray_image)        \n",
    "        return_matrix.append(normal_image)\n",
    "    return return_matrix"
   ]
  },
  {
   "cell_type": "code",
   "execution_count": 6,
   "metadata": {
    "collapsed": false
   },
   "outputs": [
    {
     "data": {
      "image/png": "[encoded data removed]",
      "text/plain": [
       "<matplotlib.figure.Figure at 0x12c9a0d30>"
      ]
     },
     "metadata": {},
     "output_type": "display_data"
    }
   ],
   "source": [
    "# presprocess the images\n",
    "X_train_gray_normalized = preprocess(X_train)\n",
    "X_valid_gray_normalized = preprocess(X_valid)\n",
    "X_test_gray_normalized = preprocess(X_test)\n",
    "\n",
    "assert n_train == len(X_train_gray_normalized)\n",
    "assert n_valid == len(X_valid_gray_normalized)\n",
    "assert n_test == len(X_test_gray_normalized)\n",
    "\n",
    "fig, axarr = plt.subplots(2)\n",
    "axarr[0].imshow(X_train[432])\n",
    "axarr[0].set_title('Input Image')\n",
    "axarr[0].axis('off')\n",
    "axarr[1].imshow(X_train_gray_normalized[432], cmap='gray')\n",
    "axarr[1].set_title('Processed Image')\n",
    "axarr[1].axis('off')\n",
    "\n",
    "plt.show()"
   ]
  },
  {
   "cell_type": "markdown",
   "metadata": {},
   "source": [
    "### Model Architecture"
   ]
  },
  {
   "cell_type": "code",
   "execution_count": 7,
   "metadata": {
    "collapsed": false
   },
   "outputs": [],
   "source": [
    "import numpy as np\n",
    "import tensorflow as tf\n",
    "from tensorflow.contrib.layers import flatten\n",
    "\n",
    "### Define your architecture here.\n",
    "### Feel free to use as many code cells as needed.\n",
    "def LeNet(x):\n",
    "    # Arguments used for tf.truncated_normal, randomly defines variables for the weights and biases for each layer\n",
    "    mu = 0\n",
    "    sigma = 0.05\n",
    "\n",
    "    strides = [1, 1, 1, 1]\n",
    "    padding = 'VALID'\n",
    "\n",
    "    # Layer 1: Convolutional. Input = 32x32x1. Output = 28x28x6\n",
    "    input_depth = 1\n",
    "    output_depth = 6\n",
    "    input_c1_shape = x.get_shape().as_list()[1:3]\n",
    "    output_c1_shape = (28, 28)\n",
    "    weights_c1_shape = list(np.subtract(input_c1_shape, output_c1_shape) + 1) + [input_depth, output_depth]\n",
    "    weights_c1 = tf.Variable(tf.truncated_normal(weights_c1_shape, mean=mu, stddev=sigma))\n",
    "    biases_c1 = tf.Variable(tf.zeros(output_depth))\n",
    "    output_c1 = tf.nn.conv2d(x, weights_c1, strides=strides, padding=padding)\n",
    "    output_c1 = tf.nn.bias_add(output_c1, biases_c1)\n",
    "\n",
    "    # Activation\n",
    "    output_c1 = tf.nn.relu(output_c1)\n",
    "\n",
    "    # Pooling. Input = 28x28x6. Output = 14x14x6\n",
    "    output_c1 = tf.nn.max_pool(output_c1, ksize=[1, 2, 2, 1], strides=[1, 2, 2, 1], padding=padding)\n",
    "\n",
    "    # Layer 2: Convolutional. Input = 14x14x6. Output = 10x10x16\n",
    "    input_depth = output_depth\n",
    "    output_depth = 16\n",
    "    input_c2_shape = output_c1.get_shape().as_list()[1:3]\n",
    "    output_c2_shape = (10, 10)\n",
    "    weights_c2_shape = list(np.subtract(input_c2_shape, output_c2_shape) + 1) + [input_depth, output_depth]\n",
    "    weights_c2 = tf.Variable(tf.truncated_normal(weights_c2_shape, mean=mu, stddev=sigma))\n",
    "    biases_c2 = tf.Variable(tf.zeros(output_depth))\n",
    "    output_c2 = tf.nn.conv2d(output_c1, weights_c2, strides=strides, padding=padding)\n",
    "    output_c2 = tf.nn.bias_add(output_c2, biases_c2)\n",
    "    \n",
    "    # Activation\n",
    "    output_c2 = tf.nn.relu(output_c2)\n",
    "\n",
    "    # Pooling. Input = 10x10x16. Output = 5x5x16.\n",
    "    output_c2 = tf.nn.max_pool(output_c2, ksize=[1, 2, 2, 1], strides=[1, 2, 2, 1], padding=padding)\n",
    "\n",
    "    # Flatten. Input = 5x5x16. Output = 400\n",
    "    input_fc1 = flatten(output_c2)\n",
    "    \n",
    "    # Layer 3: Fully Connected. Input = 400. Output = 120\n",
    "    input_fc1_length = input_fc1.get_shape().as_list()[1]\n",
    "    output_fc1_length = 120\n",
    "    weights_fc1_shape = [input_fc1_length, output_fc1_length]\n",
    "    weights_fc1 = tf.Variable(tf.truncated_normal(weights_fc1_shape, mean=mu, stddev=sigma))\n",
    "    biases_fc1 = tf.Variable(tf.zeros(output_fc1_length))\n",
    "    output_fc1 = tf.add(tf.matmul(input_fc1, weights_fc1), biases_fc1)\n",
    "\n",
    "    # Activation\n",
    "    output_fc1 = tf.nn.relu(output_fc1)\n",
    "\n",
    "    # Layer 4: Fully Connected. Input = 120. Output = 84\n",
    "    input_fc2_length = output_fc1.get_shape().as_list()[1]\n",
    "    output_fc2_length = 84\n",
    "    weights_fc2_shape = [input_fc2_length, output_fc2_length]\n",
    "    weights_fc2 = tf.Variable(tf.truncated_normal(weights_fc2_shape, mean=mu, stddev=sigma))\n",
    "    biases_fc2 = tf.Variable(tf.zeros(output_fc2_length))\n",
    "    output_fc2 = tf.add(tf.matmul(output_fc1, weights_fc2), biases_fc2)\n",
    "\n",
    "    # Activation.\n",
    "    output_fc2 = tf.nn.relu(output_fc2)\n",
    "    \n",
    "    # Dropout\n",
    "    output_fc2 = tf.nn.dropout(output_fc2, keep_prob)\n",
    "\n",
    "    # Layer 5: Fully Connected. Input = 84. Output = 43\n",
    "    input_fc3_length = output_fc2.get_shape().as_list()[1]\n",
    "    output_fc3_length = n_classes\n",
    "    weights_fc3_shape = [input_fc3_length, output_fc3_length]\n",
    "    weights_fc3 = tf.Variable(tf.truncated_normal(weights_fc3_shape, mean=mu, stddev=sigma))\n",
    "    biases_fc3 = tf.Variable(tf.zeros(output_fc3_length))\n",
    "    logits = tf.add(tf.matmul(output_fc2, weights_fc3), biases_fc3)\n",
    "\n",
    "    return logits"
   ]
  },
  {
   "cell_type": "code",
   "execution_count": 8,
   "metadata": {
    "collapsed": false
   },
   "outputs": [],
   "source": [
    "x = tf.placeholder(tf.float32, [None, 32, 32, 1])\n",
    "y = tf.placeholder(tf.int32, (None))\n",
    "keep_prob = tf.placeholder(tf.float32)\n",
    "one_hot_y = tf.one_hot(y, n_classes)"
   ]
  },
  {
   "cell_type": "markdown",
   "metadata": {},
   "source": [
    "## Training Pipeline"
   ]
  },
  {
   "cell_type": "code",
   "execution_count": 9,
   "metadata": {
    "collapsed": false
   },
   "outputs": [],
   "source": [
    "rate = 0.0011\n",
    "\n",
    "logits = LeNet(x)\n",
    "cross_entropy = tf.nn.softmax_cross_entropy_with_logits(logits=logits, labels=one_hot_y)\n",
    "loss_operation = tf.reduce_mean(cross_entropy)\n",
    "optimizer = tf.train.AdamOptimizer(learning_rate=rate)\n",
    "training_operation = optimizer.minimize(loss_operation)"
   ]
  },
  {
   "cell_type": "markdown",
   "metadata": {},
   "source": [
    "### Model Evaluation"
   ]
  },
  {
   "cell_type": "code",
   "execution_count": 10,
   "metadata": {
    "collapsed": true
   },
   "outputs": [],
   "source": [
    "BATCH_SIZE = 256\n",
    "EPOCHS = 30"
   ]
  },
  {
   "cell_type": "code",
   "execution_count": 11,
   "metadata": {
    "collapsed": false
   },
   "outputs": [],
   "source": [
    "correct_prediction = tf.equal(tf.argmax(logits, 1), tf.argmax(one_hot_y, 1))\n",
    "accuracy_operation = tf.reduce_mean(tf.cast(correct_prediction, tf.float32))\n",
    "\n",
    "def evaluate(X_data, y_data):\n",
    "    num_examples = len(X_data)\n",
    "    total_accuracy = 0\n",
    "    sess = tf.get_default_session()\n",
    "    for offset in range(0, num_examples, BATCH_SIZE):\n",
    "        batch_x, batch_y = X_data[offset:offset+BATCH_SIZE], y_data[offset:offset+BATCH_SIZE]\n",
    "        batch_x = np.expand_dims(batch_x, axis=3) # TF requires 4 dimensions\n",
    "        accuracy = sess.run(accuracy_operation, feed_dict={x: batch_x, y: batch_y, keep_prob: 1.0})\n",
    "        total_accuracy += accuracy * len(batch_x)\n",
    "    return total_accuracy / num_examples"
   ]
  },
  {
   "cell_type": "markdown",
   "metadata": {},
   "source": [
    "### Train, Validate and Test the Model"
   ]
  },
  {
   "cell_type": "markdown",
   "metadata": {},
   "source": [
    "#### Training Model (Validating Throughout)"
   ]
  },
  {
   "cell_type": "code",
   "execution_count": null,
   "metadata": {
    "collapsed": true
   },
   "outputs": [],
   "source": [
    "from sklearn.utils import shuffle\n",
    "\n",
    "### Train your model here.\n",
    "### Calculate and report the accuracy on the training and validation set.\n",
    "### Once a final model architecture is selected, \n",
    "### the accuracy on the test set should be calculated and reported as well.\n",
    "\n",
    "saver = tf.train.Saver()\n",
    "X_training_set = X_train_gray_normalized\n",
    "X_validation_set = X_valid_gray_normalized\n",
    "\n",
    "with tf.Session() as sess:\n",
    "    sess.run(tf.global_variables_initializer())\n",
    "    num_examples = len(X_training_set)\n",
    "\n",
    "    print('Training...\\n')\n",
    "    \n",
    "    for i in range(EPOCHS):\n",
    "        X_training_set, y_train = shuffle(X_training_set, y_train)\n",
    "        for offset in range(0, num_examples, BATCH_SIZE):\n",
    "            end = offset + BATCH_SIZE\n",
    "            batch_x, batch_y = X_training_set[offset:end], y_train[offset:end]\n",
    "            batch_x = np.expand_dims(batch_x, axis=3) # TF requires 4 dimensions\n",
    "            sess.run(training_operation, feed_dict={x: batch_x, y: batch_y, keep_prob: 0.6})\n",
    "\n",
    "        validation_accuracy = evaluate(X_validation_set, y_valid)\n",
    "        print(\"EPOCH {} ...\".format(i+1))\n",
    "        print(\"Validation Accuracy = {:.3f}\".format(validation_accuracy))\n",
    "        print()\n",
    "\n",
    "    saver.save(sess, './traffic-sign-classifier')\n",
    "    print('Model Saved')"
   ]
  },
  {
   "cell_type": "markdown",
   "metadata": {},
   "source": [
    "#### Validation Set\n",
    "A validation set can be used to assess how well the model is performing. A low accuracy on the training and validation\n",
    "sets imply underfitting. A high accuracy on the training set but low accuracy on the validation set implies overfitting.\n",
    "\n",
    "Note: This cell was added to comply with Udacity's rubric (to show validation accuracy using the trained model)."
   ]
  },
  {
   "cell_type": "code",
   "execution_count": 12,
   "metadata": {
    "collapsed": false
   },
   "outputs": [
    {
     "name": "stdout",
     "output_type": "stream",
     "text": [
      "Validation Accuracy = 0.932\n"
     ]
    }
   ],
   "source": [
    "import tensorflow as tf\n",
    "\n",
    "saver = tf.train.Saver()\n",
    "\n",
    "with tf.Session() as sess:\n",
    "    saver.restore(sess, './traffic-sign-classifier')\n",
    "    validation_accuracy = evaluate(X_valid_gray_normalized, y_valid)\n",
    "    print(\"Validation Accuracy = {:.3f}\".format(validation_accuracy))"
   ]
  },
  {
   "cell_type": "markdown",
   "metadata": {},
   "source": [
    "#### Test Model"
   ]
  },
  {
   "cell_type": "code",
   "execution_count": 13,
   "metadata": {
    "collapsed": false
   },
   "outputs": [
    {
     "name": "stdout",
     "output_type": "stream",
     "text": [
      "Test Accuracy = 0.921\n"
     ]
    }
   ],
   "source": [
    "with tf.Session() as sess:\n",
    "    saver.restore(sess, './traffic-sign-classifier')\n",
    "    test_accuracy = evaluate(X_test_gray_normalized, y_test)\n",
    "    print(\"Test Accuracy = {:.3f}\".format(test_accuracy))"
   ]
  },
  {
   "cell_type": "markdown",
   "metadata": {},
   "source": [
    "---\n",
    "\n",
    "## Step 3: Test a Model on New Images\n",
    "\n",
    "To give yourself more insight into how your model is working, download at least five pictures of German traffic signs from the web and use your model to predict the traffic sign type.\n",
    "\n",
    "You may find `signnames.csv` useful as it contains mappings from the class id (integer) to the actual sign name."
   ]
  },
  {
   "cell_type": "markdown",
   "metadata": {},
   "source": [
    "### Load the Images"
   ]
  },
  {
   "cell_type": "code",
   "execution_count": 14,
   "metadata": {
    "collapsed": false
   },
   "outputs": [],
   "source": [
    "import os\n",
    "from scipy.ndimage import imread\n",
    "\n",
    "german_traffic_signs_dir = './german-traffic-signs/'\n",
    "traffic_sign_file_names = os.listdir(german_traffic_signs_dir)\n",
    "\n",
    "X_images = []\n",
    "for f in traffic_sign_file_names:\n",
    "    if f.endswith('.jpg'):\n",
    "        image = imread(german_traffic_signs_dir + f)\n",
    "        X_images.append(image)\n",
    "\n",
    "num_images = len(X_images)"
   ]
  },
  {
   "cell_type": "markdown",
   "metadata": {},
   "source": [
    "### Display the Images"
   ]
  },
  {
   "cell_type": "code",
   "execution_count": 15,
   "metadata": {
    "collapsed": false
   },
   "outputs": [
    {
     "data": {
      "image/png": "[encoded data removed]",
      "text/plain": [
       "<matplotlib.figure.Figure at 0x11750cf98>"
      ]
     },
     "metadata": {},
     "output_type": "display_data"
    }
   ],
   "source": [
    "import matplotlib.pyplot as plt\n",
    "\n",
    "fig, axarr = plt.subplots(num_images)\n",
    "\n",
    "for img_num, image in enumerate(X_images):\n",
    "    axarr[img_num].imshow(image)\n",
    "    axarr[img_num].axis('off')\n",
    "\n",
    "plt.show()"
   ]
  },
  {
   "cell_type": "markdown",
   "metadata": {},
   "source": [
    "### Label Images"
   ]
  },
  {
   "cell_type": "code",
   "execution_count": 20,
   "metadata": {
    "collapsed": false
   },
   "outputs": [],
   "source": [
    "SPEED_LIMIT_30 = 1\n",
    "SPEED_LIMIT_120 = 8\n",
    "RIGHT_OF_WAY = 11\n",
    "NO_ENTRY = 17\n",
    "BUMPY_ROAD = 22\n",
    "KEEP_LEFT = 39\n",
    "\n",
    "y_images = [\n",
    "    SPEED_LIMIT_120,\n",
    "    SPEED_LIMIT_30,\n",
    "    BUMPY_ROAD,\n",
    "    KEEP_LEFT,\n",
    "    NO_ENTRY,\n",
    "    RIGHT_OF_WAY\n",
    "]\n",
    "\n",
    "label_map = pd.read_csv('./signnames.csv')"
   ]
  },
  {
   "cell_type": "markdown",
   "metadata": {},
   "source": [
    "### Pre-Process Images"
   ]
  },
  {
   "cell_type": "code",
   "execution_count": 17,
   "metadata": {
    "collapsed": false
   },
   "outputs": [
    {
     "data": {
      "image/png": "[encoded data removed]",
      "text/plain": [
       "<matplotlib.figure.Figure at 0x1176811d0>"
      ]
     },
     "metadata": {},
     "output_type": "display_data"
    }
   ],
   "source": [
    "X_gray_images = preprocess(X_images)\n",
    "\n",
    "fig, axarr = plt.subplots(num_images)\n",
    "\n",
    "for img_num, image in enumerate(X_gray_images):\n",
    "    axarr[img_num].imshow(image, cmap='gray')\n",
    "    axarr[img_num].axis('off')\n",
    "\n",
    "plt.show()"
   ]
  },
  {
   "cell_type": "markdown",
   "metadata": {},
   "source": [
    "### Predict the Sign Type for Each Image"
   ]
  },
  {
   "cell_type": "code",
   "execution_count": 21,
   "metadata": {
    "collapsed": false
   },
   "outputs": [
    {
     "name": "stdout",
     "output_type": "stream",
     "text": [
      "PREDICTION 1\n",
      "Prediction: Speed limit (50km/h)\n",
      "True label: Speed limit (120km/h)\n",
      "\n",
      "PREDICTION 2\n",
      "Prediction: Speed limit (30km/h)\n",
      "True label: Speed limit (30km/h)\n",
      "\n",
      "PREDICTION 3\n",
      "Prediction: Bicycles crossing\n",
      "True label: Bumpy road\n",
      "\n",
      "PREDICTION 4\n",
      "Prediction: Keep left\n",
      "True label: Keep left\n",
      "\n",
      "PREDICTION 5\n",
      "Prediction: No entry\n",
      "True label: No entry\n",
      "\n",
      "PREDICTION 6\n",
      "Prediction: Right-of-way at the next intersection\n",
      "True label: Right-of-way at the next intersection\n",
      "\n"
     ]
    }
   ],
   "source": [
    "### Run the predictions here and use the model to output the prediction for each image.\n",
    "### Make sure to pre-process the images with the same pre-processing pipeline used earlier.\n",
    "### Feel free to use as many code cells as needed.\n",
    "saver = tf.train.Saver()\n",
    "\n",
    "with tf.Session() as sess:\n",
    "    saver.restore(sess, './traffic-sign-classifier')\n",
    "    x_batch = np.expand_dims(X_gray_images, axis=3) # TF requires 4 dimensions\n",
    "    result_logits = sess.run(logits, feed_dict={x: x_batch, y: y_images, keep_prob: 1.0})\n",
    "\n",
    "    predictions = tf.argmax(result_logits, 1).eval()\n",
    "    compare_prediction = tf.equal(predictions, y_images)\n",
    "    accuracy = tf.reduce_mean(tf.cast(compare_prediction, tf.float32)).eval()\n",
    "\n",
    "    for idx, prediction in enumerate(predictions):\n",
    "        prediction_name = label_map['SignName'][prediction]\n",
    "        true_label = label_map['SignName'][y_images[idx]]\n",
    "        print(\"PREDICTION {}\".format(idx+1))\n",
    "        print(\"Prediction: {}\\nTrue label: {}\\n\".format(prediction_name, true_label))"
   ]
  },
  {
   "cell_type": "markdown",
   "metadata": {},
   "source": [
    "### Analyze Performance"
   ]
  },
  {
   "cell_type": "code",
   "execution_count": 22,
   "metadata": {
    "collapsed": false
   },
   "outputs": [
    {
     "name": "stdout",
     "output_type": "stream",
     "text": [
      "The model is 66.67% accurate.\n"
     ]
    }
   ],
   "source": [
    "### Calculate the accuracy for these 5 new images. \n",
    "### For example, if the model predicted 1 out of 5 signs correctly, it's 20% accurate on these new images.\n",
    "correct_prediction = tf.equal(predictions, y_images)\n",
    "print(\"The model is {:.2f}% accurate.\".format(accuracy*100))"
   ]
  },
  {
   "cell_type": "markdown",
   "metadata": {},
   "source": [
    "### Output Top 5 Softmax Probabilities For Each Image Found on the Web"
   ]
  },
  {
   "cell_type": "markdown",
   "metadata": {},
   "source": [
    "For each of the new images, print out the model's softmax probabilities to show the **certainty** of the model's predictions (limit the output to the top 5 probabilities for each image)."
   ]
  },
  {
   "cell_type": "code",
   "execution_count": 80,
   "metadata": {
    "collapsed": false,
    "scrolled": false
   },
   "outputs": [
    {
     "data": {
      "image/png": "[encoded data removed]",
      "text/plain": [
       "<matplotlib.figure.Figure at 0x117d8b5c0>"
      ]
     },
     "metadata": {},
     "output_type": "display_data"
    },
    {
     "name": "stdout",
     "output_type": "stream",
     "text": [
      "Top 5 Predictions:\n",
      "'Speed limit (50km/h)' with probability: 0.152\n",
      "'Speed limit (80km/h)' with probability: 0.119\n",
      "'Speed limit (100km/h)' with probability: 0.0852\n",
      "'Speed limit (70km/h)' with probability: 0.0674\n",
      "'Speed limit (120km/h)' with probability: 0.0629\n"
     ]
    },
    {
     "data": {
      "image/png": "[encoded data removed]",
      "text/plain": [
       "<matplotlib.figure.Figure at 0x115814358>"
      ]
     },
     "metadata": {},
     "output_type": "display_data"
    },
    {
     "name": "stdout",
     "output_type": "stream",
     "text": [
      "Top 5 Predictions:\n",
      "'Speed limit (30km/h)' with probability: 0.157\n",
      "'Stop' with probability: 0.0783\n",
      "'Yield' with probability: 0.0756\n",
      "'Priority road' with probability: 0.0629\n",
      "'Speed limit (50km/h)' with probability: 0.0504\n"
     ]
    },
    {
     "data": {
      "image/png": "[encoded data removed]",
      "text/plain": [
       "<matplotlib.figure.Figure at 0x1157e49e8>"
      ]
     },
     "metadata": {},
     "output_type": "display_data"
    },
    {
     "name": "stdout",
     "output_type": "stream",
     "text": [
      "Top 5 Predictions:\n",
      "'Bicycles crossing' with probability: 0.117\n",
      "'Bumpy road' with probability: 0.107\n",
      "'Road work' with probability: 0.0862\n",
      "'Traffic signals' with probability: 0.0657\n",
      "'Road narrows on the right' with probability: 0.0548\n"
     ]
    },
    {
     "data": {
      "image/png": "[encoded data removed]",
      "text/plain": [
       "<matplotlib.figure.Figure at 0x115e94d68>"
      ]
     },
     "metadata": {},
     "output_type": "display_data"
    },
    {
     "name": "stdout",
     "output_type": "stream",
     "text": [
      "Top 5 Predictions:\n",
      "'Keep left' with probability: 0.158\n",
      "'Speed limit (50km/h)' with probability: 0.0917\n",
      "'Speed limit (100km/h)' with probability: 0.0591\n",
      "'Roundabout mandatory' with probability: 0.0531\n",
      "'Priority road' with probability: 0.0503\n"
     ]
    },
    {
     "data": {
      "image/png": "[encoded data removed]",
      "text/plain": [
       "<matplotlib.figure.Figure at 0x117fceef0>"
      ]
     },
     "metadata": {},
     "output_type": "display_data"
    },
    {
     "name": "stdout",
     "output_type": "stream",
     "text": [
      "Top 5 Predictions:\n",
      "'No entry' with probability: 0.108\n",
      "'Stop' with probability: 0.0426\n",
      "'Priority road' with probability: 0.0388\n",
      "'Beware of ice/snow' with probability: 0.0363\n",
      "'No passing for vehicles over 3.5 metric tons' with probability: 0.0358\n"
     ]
    },
    {
     "data": {
      "image/png": "[encoded data removed]",
      "text/plain": [
       "<matplotlib.figure.Figure at 0x116332518>"
      ]
     },
     "metadata": {},
     "output_type": "display_data"
    },
    {
     "name": "stdout",
     "output_type": "stream",
     "text": [
      "Top 5 Predictions:\n",
      "'Right-of-way at the next intersection' with probability: 0.114\n",
      "'Double curve' with probability: 0.0612\n",
      "'Pedestrians' with probability: 0.0596\n",
      "'Priority road' with probability: 0.0441\n",
      "'General caution' with probability: 0.042\n"
     ]
    }
   ],
   "source": [
    "### Print out the top five softmax probabilities for the predictions on the German traffic sign images found on the web. \n",
    "from sklearn.preprocessing import normalize\n",
    "with tf.Session() as sess:\n",
    "    for idx, result_logit in enumerate(result_logits):\n",
    "        plt.imshow(X_images[idx])\n",
    "        plt.axis('off')\n",
    "        plt.show()\n",
    "        result_logit = normalize(result_logit.reshape(1, -1), norm='max', axis=1)[0]\n",
    "\n",
    "        k = 5\n",
    "        print(\"Top {} Predictions:\".format(k))\n",
    "        top_k_predictions = tf.nn.top_k(tf.nn.softmax(result_logit), k)\n",
    "\n",
    "        top_k_predictions_indices = top_k_predictions[1].eval()\n",
    "        top_k_predictions_probs = top_k_predictions[0].eval()\n",
    "\n",
    "        for prediction_index, prediction_prob in zip(top_k_predictions_indices, top_k_predictions_probs):\n",
    "            prediction_name = label_map['SignName'][prediction_index]\n",
    "            print(\"'{}' with probability: {:.3}\".format(prediction_name, prediction_prob))"
   ]
  },
  {
   "cell_type": "markdown",
   "metadata": {},
   "source": [
    "---\n",
    "\n",
    "## Step 4: Visualize the Neural Network's State with Test Images\n",
    "\n",
    " This Section is not required to complete but acts as an additional excersise for understaning the output of a neural network's weights. While neural networks can be a great learning device they are often referred to as a black box. We can understand what the weights of a neural network look like better by plotting their feature maps. After successfully training your neural network you can see what it's feature maps look like by plotting the output of the network's weight layers in response to a test stimuli image. From these plotted feature maps, it's possible to see what characteristics of an image the network finds interesting. For a sign, maybe the inner network feature maps react with high activation to the sign's boundary outline or to the contrast in the sign's painted symbol.\n",
    "\n",
    " Provided for you below is the function code that allows you to get the visualization output of any tensorflow weight layer you want. The inputs to the function should be a stimuli image, one used during training or a new one you provided, and then the tensorflow variable name that represents the layer's state during the training process, for instance if you wanted to see what the [LeNet lab's](https://classroom.udacity.com/nanodegrees/nd013/parts/fbf77062-5703-404e-b60c-95b78b2f3f9e/modules/6df7ae49-c61c-4bb2-a23e-6527e69209ec/lessons/601ae704-1035-4287-8b11-e2c2716217ad/concepts/d4aca031-508f-4e0b-b493-e7b706120f81) feature maps looked like for it's second convolutional layer you could enter conv2 as the tf_activation variable.\n",
    "\n",
    "For an example of what feature map outputs look like, check out NVIDIA's results in their paper [End-to-End Deep Learning for Self-Driving Cars](https://devblogs.nvidia.com/parallelforall/deep-learning-self-driving-cars/) in the section Visualization of internal CNN State. NVIDIA was able to show that their network's inner weights had high activations to road boundary lines by comparing feature maps from an image with a clear path to one without. Try experimenting with a similar test to show that your trained network's weights are looking for interesting features, whether it's looking at differences in feature maps from images with or without a sign, or even what feature maps look like in a trained network vs a completely untrained one on the same sign image.\n",
    "\n",
    "<figure>\n",
    " <img src=\"visualize_cnn.png\" width=\"380\" alt=\"Combined Image\" />\n",
    " <figcaption>\n",
    " <p></p> \n",
    " <p style=\"text-align: center;\"> Your output should look something like this (above)</p> \n",
    " </figcaption>\n",
    "</figure>\n",
    " <p></p> \n"
   ]
  },
  {
   "cell_type": "code",
   "execution_count": null,
   "metadata": {
    "collapsed": true
   },
   "outputs": [],
   "source": [
    "### Visualize your network's feature maps here.\n",
    "### Feel free to use as many code cells as needed.\n",
    "\n",
    "# image_input: the test image being fed into the network to produce the feature maps\n",
    "# tf_activation: should be a tf variable name used during your training procedure that represents the calculated state of a specific weight layer\n",
    "# activation_min/max: can be used to view the activation contrast in more detail, by default matplot sets min and max to the actual min and max values of the output\n",
    "# plt_num: used to plot out multiple different weight feature map sets on the same block, just extend the plt number for each new feature map entry\n",
    "\n",
    "def outputFeatureMap(image_input, tf_activation, activation_min=-1, activation_max=-1 ,plt_num=1):\n",
    "    # Here make sure to preprocess your image_input in a way your network expects\n",
    "    # with size, normalization, ect if needed\n",
    "    # image_input =\n",
    "    # Note: x should be the same name as your network's tensorflow data placeholder variable\n",
    "    # If you get an error tf_activation is not defined it maybe having trouble accessing the variable from inside a function\n",
    "    activation = tf_activation.eval(session=sess,feed_dict={x : image_input})\n",
    "    featuremaps = activation.shape[3]\n",
    "    plt.figure(plt_num, figsize=(15,15))\n",
    "    for featuremap in range(featuremaps):\n",
    "        plt.subplot(6,8, featuremap+1) # sets the number of feature maps to show on each row and column\n",
    "        plt.title('FeatureMap ' + str(featuremap)) # displays the feature map number\n",
    "        if activation_min != -1 & activation_max != -1:\n",
    "            plt.imshow(activation[0,:,:, featuremap], interpolation=\"nearest\", vmin =activation_min, vmax=activation_max, cmap=\"gray\")\n",
    "        elif activation_max != -1:\n",
    "            plt.imshow(activation[0,:,:, featuremap], interpolation=\"nearest\", vmax=activation_max, cmap=\"gray\")\n",
    "        elif activation_min !=-1:\n",
    "            plt.imshow(activation[0,:,:, featuremap], interpolation=\"nearest\", vmin=activation_min, cmap=\"gray\")\n",
    "        else:\n",
    "            plt.imshow(activation[0,:,:, featuremap], interpolation=\"nearest\", cmap=\"gray\")"
   ]
  },
  {
   "cell_type": "markdown",
   "metadata": {},
   "source": [
    "### Question 9\n",
    "\n",
    "Discuss how you used the visual output of your trained network's feature maps to show that it had learned to look for interesting characteristics in traffic sign images\n"
   ]
  },
  {
   "cell_type": "markdown",
   "metadata": {},
   "source": [
    "**Answer:**"
   ]
  },
  {
   "cell_type": "markdown",
   "metadata": {},
   "source": [
    "> **Note**: Once you have completed all of the code implementations and successfully answered each question above, you may finalize your work by exporting the iPython Notebook as an HTML document. You can do this by using the menu above and navigating to  \\n\",\n",
    "    \"**File -> Download as -> HTML (.html)**. Include the finished document along with this notebook as your submission."
   ]
  },
  {
   "cell_type": "markdown",
   "metadata": {},
   "source": [
    "### Project Writeup\n",
    "\n",
    "Once you have completed the code implementation, document your results in a project writeup using this [template](https://github.com/udacity/CarND-Traffic-Sign-Classifier-Project/blob/master/writeup_template.md) as a guide. The writeup can be in a markdown or pdf file. "
   ]
  }
 ],
 "metadata": {
  "anaconda-cloud": {},
  "kernelspec": {
   "display_name": "Python 3",
   "language": "python",
   "name": "python3"
  },
  "language_info": {
   "codemirror_mode": {
    "name": "ipython",
    "version": 3
   },
   "file_extension": ".py",
   "mimetype": "text/x-python",
   "name": "python",
   "nbconvert_exporter": "python",
   "pygments_lexer": "ipython3",
   "version": "3.5.2"
  },
  "widgets": {
   "state": {},
   "version": "1.1.2"
  }
 },
 "nbformat": 4,
 "nbformat_minor": 1
}
